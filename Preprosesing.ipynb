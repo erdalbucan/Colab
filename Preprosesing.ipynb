{
  "nbformat": 4,
  "nbformat_minor": 0,
  "metadata": {
    "colab": {
      "provenance": [],
      "authorship_tag": "ABX9TyMPK3jNc4uCkSum7MwhjXuF",
      "include_colab_link": true
    },
    "kernelspec": {
      "name": "python3",
      "display_name": "Python 3"
    },
    "language_info": {
      "name": "python"
    }
  },
  "cells": [
    {
      "cell_type": "markdown",
      "metadata": {
        "id": "view-in-github",
        "colab_type": "text"
      },
      "source": [
        "<a href=\"https://colab.research.google.com/github/erdalbucan/Colab/blob/main/Preprosesing.ipynb\" target=\"_parent\"><img src=\"https://colab.research.google.com/assets/colab-badge.svg\" alt=\"Open In Colab\"/></a>"
      ]
    },
    {
      "cell_type": "code",
      "execution_count": 3,
      "metadata": {
        "id": "jH1jGzerIa30"
      },
      "outputs": [],
      "source": [
        "import pandas as pd\n",
        "from sklearn.linear_model import LinearRegression"
      ]
    },
    {
      "cell_type": "code",
      "source": [
        "# makine ogrenmesi FORMUL  y = m1x1 + m2x2 + mnxn + b"
      ],
      "metadata": {
        "id": "DiZZ_CvBKLrQ"
      },
      "execution_count": 4,
      "outputs": []
    },
    {
      "cell_type": "code",
      "source": [
        "# https://www.kaggle.com/datasets/jacklacey/audi-a1-listings/data adresinden Audi_A1_listings.csv datadini indirdik\n",
        "#pd.read_cvs ile dizindeki audi.csv dosyamizi okuyup df degiskenine taniimliyoruz\n",
        "df = pd.read_csv('audi.csv')\n",
        "df.head(3)"
      ],
      "metadata": {
        "id": "jPwiF5PII1eL"
      },
      "execution_count": null,
      "outputs": []
    },
    {
      "cell_type": "code",
      "source": [
        "# makine ogrenmesi icin ihtiyacimiz olmayan sutunlari temizleyelim\n",
        "#bu datada fiyat tahmini icin araba linklerine ranklara ihtiyacim yok\n",
        "df = df.drop(columns= ['index','href','MileageRank','PriceRank','PPY','PPYRank','Score'])\n",
        "df.head(3)"
      ],
      "metadata": {
        "id": "jRRTk03xJsq0"
      },
      "execution_count": null,
      "outputs": []
    },
    {
      "cell_type": "code",
      "source": [
        "# Type , Transmission, Fuel gibi veriler KATEGORISEL rakamsal veriler ise NUMERIK verilerdir.\n",
        "\n",
        "# y = mx + b  Y =tahmin edilecek veri x = etki katsayisi m = etki eden faktor (dizel, motor, yil vb. her biri ayri m1x1 m2x2 mnxn) b = sabit\n",
        "# Data mizi Numerik veriye donusturmemiz gerekiyor.\n",
        "\n",
        "# Datamizin neleri numerige cevirmemiz gerektigini ogrenmek icin pd.info()\n",
        "df.info()\n",
        "#Fload ve int harici butun verilerimiz Kategorisel veri imis"
      ],
      "metadata": {
        "id": "qOLLBdKhL7ts"
      },
      "execution_count": null,
      "outputs": []
    },
    {
      "cell_type": "code",
      "source": [
        "# oncelikle sutun adlarini degistirmekle baslayalim\n",
        "# oncelikle Engin sutununu NUmerik veriye donustirmekle baslayalim\n",
        "df.columns=['yil','kasa','mil','motor','ps','vites','yakit','sahip','fiyat']\n",
        "df.head(3)"
      ],
      "metadata": {
        "id": "cX3YRol4Nz8M"
      },
      "execution_count": null,
      "outputs": []
    },
    {
      "cell_type": "code",
      "source": [
        "# motor sutundaki L ibarelerini str.replace komutuyla degistiriyorum\n",
        "df['motor'] = df['motor'].str.replace('L','')\n",
        "df.head(3)\n",
        "#numerige benzedi fakat sutun henuz object olarak tanimli. int yada fload a cevirmek gerekiyor"
      ],
      "metadata": {
        "id": "_rdYB1I3QaDA"
      },
      "execution_count": null,
      "outputs": []
    },
    {
      "cell_type": "code",
      "source": [
        "#numerige donuzmeye uygunlastirdigimiz motor sutunumuzu  to_numeric comutuyla numerige donusturuyoruz\n",
        "df['motor'] = pd.to_numeric( df ['motor'] )\n",
        "df['motor'].head(3)\n",
        "# object olan motor sutunumuz artik fload"
      ],
      "metadata": {
        "id": "f3pFW4FtRg-z"
      },
      "execution_count": null,
      "outputs": []
    },
    {
      "cell_type": "code",
      "source": [
        "# simdi direk kategorisel verileri numerige cevirecegiz get_dummies comutuyla\n",
        "df= pd.get_dummies(df,columns=['kasa','vites','yakit'],drop_first=True) # drop_first=True iki veri yi teke cevir- yani oto vites ile man vites ayri olmaasin. oto vites 0 ise man vites demektir\n",
        "df.head(5)\n",
        "# Artik verimiz model olusturmak icin hazir. butun sutunlari NUMERIC"
      ],
      "metadata": {
        "id": "ABfyltacVCCe"
      },
      "execution_count": null,
      "outputs": []
    },
    {
      "cell_type": "code",
      "source": [
        "# datamiz hazir. makine ogrenmesine gecebiliriz\n",
        "# oncelikle x ve y mizi tanimliyoruz\n",
        "# y = mx+b y= tahmin etmek istedigimiz veri = fiyat\n",
        "y = df[['fiyat']]\n",
        "# x diger butun etkenler x\n",
        "x = df.drop('fiyat', axis = 1 ) # fiyat haricinde hepsi x olsun anlamina gelir yada x = df[['yil','motor',vs, vs]] yazabilir\n",
        "df.head()"
      ],
      "metadata": {
        "id": "2gljEC09XZXH"
      },
      "execution_count": null,
      "outputs": []
    },
    {
      "cell_type": "code",
      "source": [
        "# modelimizi olusturuyoruz\n",
        "lm = LinearRegression()\n",
        "model = lm.fit(x,y) #modeli fit ediyoruz ogretiyoruz"
      ],
      "metadata": {
        "id": "odbNHRaWatmo"
      },
      "execution_count": null,
      "outputs": []
    },
    {
      "cell_type": "code",
      "source": [
        "# lm miz ogrendi, simdi bir tahmin yaptiralim predict comutuyla\n",
        "model.predict([[2017,50000,1.6,103.550296,1,3800,0,1]])#yil\tmil\tmotor\tps\tsahip\tFIYAT=X=YAZMA\tppy\tvites_Manual\tyakit_Petrol\n",
        "# bu veri ye gore tahminimiz 14932 euro"
      ],
      "metadata": {
        "colab": {
          "base_uri": "https://localhost:8080/"
        },
        "id": "yeiI98AHdazd",
        "outputId": "23ddd0cc-a300-47ae-cf81-9cea44eb6d3a"
      },
      "execution_count": null,
      "outputs": [
        {
          "output_type": "stream",
          "name": "stderr",
          "text": [
            "/usr/local/lib/python3.10/dist-packages/sklearn/base.py:439: UserWarning: X does not have valid feature names, but LinearRegression was fitted with feature names\n",
            "  warnings.warn(\n"
          ]
        },
        {
          "output_type": "execute_result",
          "data": {
            "text/plain": [
              "array([[14931.94147347]])"
            ]
          },
          "metadata": {},
          "execution_count": 101
        }
      ]
    },
    {
      "cell_type": "code",
      "source": [
        "# tahminler ne derece dogru\n",
        "model.score(x,y)\n",
        "# % 96 civarinda dogru tahmin ediyormus"
      ],
      "metadata": {
        "colab": {
          "base_uri": "https://localhost:8080/"
        },
        "id": "E33P_0hHfAQN",
        "outputId": "c1b2841a-970a-4aaa-9d94-a38df3bc4df4"
      },
      "execution_count": null,
      "outputs": [
        {
          "output_type": "execute_result",
          "data": {
            "text/plain": [
              "0.9595295772839731"
            ]
          },
          "metadata": {},
          "execution_count": 102
        }
      ]
    },
    {
      "cell_type": "code",
      "source": [],
      "metadata": {
        "colab": {
          "base_uri": "https://localhost:8080/",
          "height": 108
        },
        "id": "jZT2gd0NhEap",
        "outputId": "b901f401-99e4-473c-f370-9e22ff6b7b46"
      },
      "execution_count": null,
      "outputs": [
        {
          "output_type": "error",
          "ename": "SyntaxError",
          "evalue": "invalid syntax (<ipython-input-105-7807c62fd889>, line 1)",
          "traceback": [
            "\u001b[0;36m  File \u001b[0;32m\"<ipython-input-105-7807c62fd889>\"\u001b[0;36m, line \u001b[0;32m1\u001b[0m\n\u001b[0;31m    git remote add origin https://github.com/erdalbucan/Colab.git\u001b[0m\n\u001b[0m        ^\u001b[0m\n\u001b[0;31mSyntaxError\u001b[0m\u001b[0;31m:\u001b[0m invalid syntax\n"
          ]
        }
      ]
    }
  ]
}